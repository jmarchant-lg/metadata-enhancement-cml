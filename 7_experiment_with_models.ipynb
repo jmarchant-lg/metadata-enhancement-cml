{
 "cells": [
  {
   "cell_type": "code",
   "execution_count": 5,
   "metadata": {},
   "outputs": [],
   "source": [
    "import pandas as pd\n",
    "import spacy\n",
    "import pickle\n",
    "import time\n",
    "import random\n",
    "import warnings\n",
    "warnings.filterwarnings('ignore')"
   ]
  },
  {
   "cell_type": "code",
   "execution_count": 24,
   "metadata": {},
   "outputs": [],
   "source": [
    "def reformat_tagged_data(data):\n",
    "    output = []\n",
    "    for item in data:\n",
    "        new_data = (item[0],{\"entities\":item[1]})\n",
    "        output.append(new_data)\n",
    "    # Now we have reformatted TRAIN_DATA ready for model input\n",
    "    return output\n",
    "\n",
    "def test_model(nlp_model,examples_to_test):\n",
    "    print(\"Testing {} examples\".format(len(examples_to_test)))\n",
    "    total = 0\n",
    "    correct = 0\n",
    "    completely_correct = 0\n",
    "    for example in examples_to_test:\n",
    "        doc = nlp_model(example[0])\n",
    "        \n",
    "        actual_positions = [(x[0],x[1]) for x in example[1][\"entities\"]]\n",
    "        predictions = [str(x) for x in list(doc.ents)]\n",
    "        actual_characters = [str(doc)[a:b] for (a,b) in actual_positions]\n",
    "        initial_predictions = predictions\n",
    "        \n",
    "        for char in actual_characters:\n",
    "            if char in predictions:\n",
    "                correct += 1\n",
    "                predictions.remove(char)\n",
    "            total += 1\n",
    "        \n",
    "        if len(predictions) == 0:\n",
    "            completely_correct += 1\n",
    "        \n",
    "#         print(\"Sentence: {}\".format(doc))\n",
    "#         print(\"Predictions: {}\".format(initial_predictions))\n",
    "#         print(\"Actual: {}\".format(actual_characters))\n",
    "#         print()\n",
    "    print(\"{}% characters correctly tagged\".format(round(100*(correct/total),0)))\n",
    "    print(\"{}% sentences perfectly tagged\".format(round(100*(completely_correct/len(examples_to_test)),0)))\n",
    "    \n",
    "def debug_n_predictions(nlp,TEST_DATA,n):\n",
    "    for i in range(n):\n",
    "        example = TEST_DATA[i]\n",
    "        doc = nlp(example[0])\n",
    "        \n",
    "        actual_positions = [(x[0],x[1]) for x in example[1][\"entities\"]]\n",
    "        predictions = [str(x) for x in list(doc.ents)]\n",
    "        actual_characters = [str(doc)[a:b] for (a,b) in actual_positions]\n",
    "    \n",
    "        print(\"Sentence: {}\".format(doc))\n",
    "        print(\"Predictions: {}\".format(sorted(predictions)))\n",
    "        print(\"Actual:      {}\".format(sorted(actual_characters)))\n",
    "        print()"
   ]
  },
  {
   "cell_type": "markdown",
   "metadata": {},
   "source": [
    "# 100 Training+Test, drop=0.5"
   ]
  },
  {
   "cell_type": "code",
   "execution_count": 22,
   "metadata": {},
   "outputs": [],
   "source": [
    "train_data = pickle.load(open(\"data/1_train_100\",'rb'))\n",
    "TRAIN_DATA = reformat_tagged_data(train_data)\n",
    "test_data = pickle.load(open(\"data/1_test_100\",'rb'))\n",
    "TEST_DATA = reformat_tagged_data(test_data)"
   ]
  },
  {
   "cell_type": "code",
   "execution_count": 23,
   "metadata": {},
   "outputs": [
    {
     "name": "stdout",
     "output_type": "stream",
     "text": [
      "Training Took 1629.24 seconds\n"
     ]
    }
   ],
   "source": [
    "nlp = spacy.load(\"en_core_web_sm\")\n",
    "optimizer = nlp.begin_training()\n",
    "t1 = time.time()\n",
    "for i in range(5):\n",
    "    random.shuffle(TRAIN_DATA)\n",
    "    for text, annotations in TRAIN_DATA:\n",
    "        nlp.update([text], [annotations], drop=0.5, sgd=optimizer)\n",
    "t2 = time.time()\n",
    "print(\"Training Took {} seconds\".format(round(t2-t1,2)))\n",
    "nlp.to_disk(\"C:/Users/jmarchant/Python/CDW/models/model1\")"
   ]
  },
  {
   "cell_type": "code",
   "execution_count": 25,
   "metadata": {},
   "outputs": [
    {
     "name": "stdout",
     "output_type": "stream",
     "text": [
      "Testing 842 examples\n",
      "91.0% characters correctly tagged\n",
      "86.0% sentences perfectly tagged\n"
     ]
    }
   ],
   "source": [
    "nlp = spacy.load(\"C:/Users/jmarchant/Python/CDW/models/model1\")\n",
    "test_model(nlp,TRAIN_DATA)"
   ]
  },
  {
   "cell_type": "code",
   "execution_count": 26,
   "metadata": {},
   "outputs": [
    {
     "name": "stdout",
     "output_type": "stream",
     "text": [
      "Testing 173 examples\n",
      "63.0% characters correctly tagged\n",
      "52.0% sentences perfectly tagged\n"
     ]
    }
   ],
   "source": [
    "test_model(nlp,TEST_DATA)"
   ]
  },
  {
   "cell_type": "code",
   "execution_count": 27,
   "metadata": {
    "scrolled": true
   },
   "outputs": [
    {
     "name": "stdout",
     "output_type": "stream",
     "text": [
      "Sentence: Twenty-three days after Thanos used the Infinity Gauntlet to disintegrate half of all life in the universe, Carol Danvers rescues Tony Stark and Nebula from deep space and returns them to Earth, where they reunite with the remaining Avengers—Bruce Banner, Steve Rogers, Thor, Natasha Romanoff, and James Rhodes—and Rocket\n",
      "Predictions: ['Bruce', 'Carol', 'James', 'Natasha', 'Nebula', 'Rocket', 'Steve', 'Thanos', 'Thor', 'Tony']\n",
      "Actual:      ['Bruce', 'Carol', 'James', 'Natasha', 'Nebula', 'Rocket', 'Steve', 'Thanos', 'Thor', 'Tony']\n",
      "\n",
      "Sentence: Locating Thanos on an uninhabited planet, they plan to use the Infinity Stones to reverse \"the Snap\", but Thanos reveals he destroyed the Stones to prevent further use\n",
      "Predictions: ['Thanos', 'Thanos']\n",
      "Actual:      ['Thanos', 'Thanos']\n",
      "\n",
      "Sentence: Enraged, Thor decapitates Thanos\n",
      "Predictions: ['Thanos', 'Thor']\n",
      "Actual:      ['Thanos', 'Thor']\n",
      "\n",
      "Sentence: Five years later, Scott Lang escapes from the quantum realm\n",
      "Predictions: ['Lang']\n",
      "Actual:      ['Scott']\n",
      "\n",
      "Sentence: Theorizing the quantum realm could allow time travel, they ask Stark to help them obtain the Stones from the past to undo Thanos' actions in the present\n",
      "Predictions: ['Stones', 'Thanos']\n",
      "Actual:      ['Thanos']\n",
      "\n",
      "Sentence: Stark refuses, thinking about his wife, Pepper Potts, and daughter, Morgan, but relents after musing on the death of Peter Parker\n",
      "Predictions: ['Morgan', 'Peter']\n",
      "Actual:      ['Pepper Potts']\n",
      "\n",
      "Sentence: Stark, Rocket, and Banner, who has since merged his intelligence with the Hulk's strength, build a time machine\n",
      "Predictions: ['Hulk', 'Rocket']\n",
      "Actual:      ['Hulk', 'Rocket']\n",
      "\n",
      "Sentence: He and Rocket visit the Asgardian refugees' new home in Norway—New Asgard—to recruit Thor, now overweight and drinking heavily, despondent over his failure to stop Thanos\n",
      "Predictions: ['Rocket', 'Thanos', 'Thor']\n",
      "Actual:      ['Rocket', 'Thanos', 'Thor']\n",
      "\n",
      "Sentence: In Tokyo, Romanoff recruits Clint Barton, now a vigilante following Thanos' disintegration of his family\n",
      "Predictions: ['Thanos']\n",
      "Actual:      ['Clint', 'Thanos']\n",
      "\n",
      "Sentence: Meanwhile, Rocket and Thor travel to Asgard in 2013, extracting the Reality Stone from Jane Foster and retrieving Thor's hammer Mjolnir\n",
      "Predictions: ['Jane', 'Rocket', 'Thor', 'Thor']\n",
      "Actual:      ['Rocket', 'Thor', 'Thor']\n",
      "\n"
     ]
    }
   ],
   "source": [
    "debug_n_predictions(nlp,TEST_DATA,10)"
   ]
  },
  {
   "cell_type": "markdown",
   "metadata": {},
   "source": [
    "# 100 Training+Test, drop=0.5, fix find_overlapping_tags(), 5 shuffles"
   ]
  },
  {
   "cell_type": "code",
   "execution_count": 28,
   "metadata": {},
   "outputs": [],
   "source": [
    "train_data_3 = pickle.load(open(\"data/3_train_100\",'rb'))\n",
    "TRAIN_DATA_3 = reformat_tagged_data(train_data_3)\n",
    "test_data_3 = pickle.load(open(\"data/3_test_100\",'rb'))\n",
    "TEST_DATA_3 = reformat_tagged_data(test_data_3)"
   ]
  },
  {
   "cell_type": "code",
   "execution_count": 31,
   "metadata": {},
   "outputs": [
    {
     "name": "stdout",
     "output_type": "stream",
     "text": [
      "Training Took 1650.55 seconds\n"
     ]
    }
   ],
   "source": [
    "nlp3 = spacy.load(\"en_core_web_sm\")\n",
    "optimizer = nlp3.begin_training()\n",
    "t1 = time.time()\n",
    "for i in range(5):\n",
    "    random.shuffle(TRAIN_DATA_3)\n",
    "    for text, annotations in TRAIN_DATA_3:\n",
    "        nlp3.update([text], [annotations], drop=0.5, sgd=optimizer)\n",
    "t2 = time.time()\n",
    "print(\"Training Took {} seconds\".format(round(t2-t1,2)))\n",
    "nlp3.to_disk(\"C:/Users/jmarchant/Python/CDW/models/model3\")"
   ]
  },
  {
   "cell_type": "code",
   "execution_count": 32,
   "metadata": {},
   "outputs": [
    {
     "name": "stdout",
     "output_type": "stream",
     "text": [
      "Testing 842 examples\n",
      "91.0% characters correctly tagged\n",
      "85.0% sentences perfectly tagged\n"
     ]
    }
   ],
   "source": [
    "nlp3 = spacy.load(\"C:/Users/jmarchant/Python/CDW/models/model3\")\n",
    "test_model(nlp3,TRAIN_DATA_3)"
   ]
  },
  {
   "cell_type": "code",
   "execution_count": 33,
   "metadata": {},
   "outputs": [
    {
     "name": "stdout",
     "output_type": "stream",
     "text": [
      "Testing 174 examples\n",
      "65.0% characters correctly tagged\n",
      "53.0% sentences perfectly tagged\n"
     ]
    }
   ],
   "source": [
    "test_model(nlp3,TEST_DATA_3)"
   ]
  },
  {
   "cell_type": "code",
   "execution_count": 34,
   "metadata": {
    "scrolled": true
   },
   "outputs": [
    {
     "name": "stdout",
     "output_type": "stream",
     "text": [
      "Sentence: Twenty-three days after Thanos used the Infinity Gauntlet to kill half of all life in the universe, Carol Danvers rescues Tony Stark and Nebula from deep space and they reunite with the remaining Avengers—Bruce Banner, Steve Rogers, Thor, Natasha Romanoff, and James Rhodes—and Rocket on Earth\n",
      "Predictions: ['Bruce', 'Carol', 'James', 'Nebula', 'Rocket', 'Steve', 'Thanos', 'Thor', 'Tony']\n",
      "Actual:      ['Bruce', 'Carol', 'James', 'Natasha', 'Nebula', 'Rocket', 'Steve', 'Thanos', 'Thor', 'Tony']\n",
      "\n",
      "Sentence: Locating Thanos on an uninhabited planet, they plan to use the Infinity Stones to reverse \"the Snap\", but Thanos destroyed the Stones to prevent further use\n",
      "Predictions: ['Snap', 'Thanos', 'Thanos']\n",
      "Actual:      ['Thanos', 'Thanos']\n",
      "\n",
      "Sentence: Enraged, Thor decapitates Thanos\n",
      "Predictions: ['Thanos', 'Thor']\n",
      "Actual:      ['Thanos', 'Thor']\n",
      "\n",
      "Sentence: Five years later, Scott Lang escapes from the quantum realm\n",
      "Predictions: ['Lang']\n",
      "Actual:      ['Scott']\n",
      "\n",
      "Sentence: Theorizing the quantum realm could allow time travel, they ask Stark to help them obtain the Stones from the past to reverse Thanos' disintergrations in the present\n",
      "Predictions: ['Stones', 'Thanos']\n",
      "Actual:      ['Thanos']\n",
      "\n",
      "Sentence: Stark refuses, thinking about his wife Pepper Potts and daughter Morgan, but relents after musing over Peter Parker\n",
      "Predictions: ['Morgan', 'Peter']\n",
      "Actual:      ['Pepper Potts']\n",
      "\n",
      "Sentence: Stark, Rocket, and Banner, who has since merged his intelligence with the Hulk's strength, build a time machine\n",
      "Predictions: ['Hulk', 'Rocket']\n",
      "Actual:      ['Hulk', 'Rocket']\n",
      "\n",
      "Sentence: In Norway, an overweight Thor is recruited in the Asgardian refugees' new home New Asgard\n",
      "Predictions: ['Norway', 'Thor']\n",
      "Actual:      ['Thor']\n",
      "\n",
      "Sentence: In Tokyo, Romanoff recruits Clint Barton, now a vigilante following the death of his family\n",
      "Predictions: []\n",
      "Actual:      ['Clint']\n",
      "\n",
      "Sentence: Meanwhile, Rocket and Thor travel to Asgard in 2013, extracting the Reality Stone from Jane Foster and retrieving Thor's hammer Mjolnir\n",
      "Predictions: ['Rocket', 'Thor', 'Thor']\n",
      "Actual:      ['Rocket', 'Thor', 'Thor']\n",
      "\n"
     ]
    }
   ],
   "source": [
    "debug_n_predictions(nlp3,TEST_DATA_3,10)"
   ]
  },
  {
   "cell_type": "markdown",
   "metadata": {},
   "source": [
    "# 10 shuffles"
   ]
  },
  {
   "cell_type": "code",
   "execution_count": 35,
   "metadata": {},
   "outputs": [],
   "source": [
    "# Uses same TRAIN and TEST data"
   ]
  },
  {
   "cell_type": "code",
   "execution_count": 36,
   "metadata": {},
   "outputs": [
    {
     "name": "stdout",
     "output_type": "stream",
     "text": [
      "Training Took 3844.69 seconds\n"
     ]
    }
   ],
   "source": [
    "nlp4 = spacy.load(\"en_core_web_sm\")\n",
    "optimizer = nlp4.begin_training()\n",
    "t1 = time.time()\n",
    "for i in range(10):\n",
    "    random.shuffle(TRAIN_DATA_3)\n",
    "    for text, annotations in TRAIN_DATA_3:\n",
    "        nlp4.update([text], [annotations], drop=0.5, sgd=optimizer)\n",
    "t2 = time.time()\n",
    "print(\"Training Took {} seconds\".format(round(t2-t1,2)))\n",
    "nlp4.to_disk(\"C:/Users/jmarchant/Python/CDW/models/model4\")"
   ]
  },
  {
   "cell_type": "code",
   "execution_count": 37,
   "metadata": {},
   "outputs": [
    {
     "name": "stdout",
     "output_type": "stream",
     "text": [
      "Testing 842 examples\n",
      "91.0% characters correctly tagged\n",
      "91.0% sentences perfectly tagged\n"
     ]
    }
   ],
   "source": [
    "nlp4 = spacy.load(\"C:/Users/jmarchant/Python/CDW/models/model4\")\n",
    "test_model(nlp4,TRAIN_DATA_3)"
   ]
  },
  {
   "cell_type": "code",
   "execution_count": 38,
   "metadata": {},
   "outputs": [
    {
     "name": "stdout",
     "output_type": "stream",
     "text": [
      "Testing 174 examples\n",
      "47.0% characters correctly tagged\n",
      "69.0% sentences perfectly tagged\n"
     ]
    }
   ],
   "source": [
    "test_model(nlp4,TEST_DATA_3)"
   ]
  },
  {
   "cell_type": "code",
   "execution_count": 39,
   "metadata": {
    "scrolled": true
   },
   "outputs": [
    {
     "name": "stdout",
     "output_type": "stream",
     "text": [
      "Sentence: Twenty-three days after Thanos used the Infinity Gauntlet to kill half of all life in the universe, Carol Danvers rescues Tony Stark and Nebula from deep space and they reunite with the remaining Avengers—Bruce Banner, Steve Rogers, Thor, Natasha Romanoff, and James Rhodes—and Rocket on Earth\n",
      "Predictions: ['Bruce', 'Carol', 'James', 'Nebula', 'Rocket', 'Steve', 'Thanos', 'Thor']\n",
      "Actual:      ['Bruce', 'Carol', 'James', 'Natasha', 'Nebula', 'Rocket', 'Steve', 'Thanos', 'Thor', 'Tony']\n",
      "\n",
      "Sentence: Locating Thanos on an uninhabited planet, they plan to use the Infinity Stones to reverse \"the Snap\", but Thanos destroyed the Stones to prevent further use\n",
      "Predictions: ['Thanos', 'Thanos']\n",
      "Actual:      ['Thanos', 'Thanos']\n",
      "\n",
      "Sentence: Enraged, Thor decapitates Thanos\n",
      "Predictions: ['Thanos', 'Thor']\n",
      "Actual:      ['Thanos', 'Thor']\n",
      "\n",
      "Sentence: Five years later, Scott Lang escapes from the quantum realm\n",
      "Predictions: ['Lang']\n",
      "Actual:      ['Scott']\n",
      "\n",
      "Sentence: Theorizing the quantum realm could allow time travel, they ask Stark to help them obtain the Stones from the past to reverse Thanos' disintergrations in the present\n",
      "Predictions: ['Thanos']\n",
      "Actual:      ['Thanos']\n",
      "\n",
      "Sentence: Stark refuses, thinking about his wife Pepper Potts and daughter Morgan, but relents after musing over Peter Parker\n",
      "Predictions: ['Peter']\n",
      "Actual:      ['Pepper Potts']\n",
      "\n",
      "Sentence: Stark, Rocket, and Banner, who has since merged his intelligence with the Hulk's strength, build a time machine\n",
      "Predictions: ['Hulk', 'Rocket']\n",
      "Actual:      ['Hulk', 'Rocket']\n",
      "\n",
      "Sentence: In Norway, an overweight Thor is recruited in the Asgardian refugees' new home New Asgard\n",
      "Predictions: ['Thor']\n",
      "Actual:      ['Thor']\n",
      "\n",
      "Sentence: In Tokyo, Romanoff recruits Clint Barton, now a vigilante following the death of his family\n",
      "Predictions: []\n",
      "Actual:      ['Clint']\n",
      "\n",
      "Sentence: Meanwhile, Rocket and Thor travel to Asgard in 2013, extracting the Reality Stone from Jane Foster and retrieving Thor's hammer Mjolnir\n",
      "Predictions: ['Jane', 'Rocket', 'Thor', 'Thor']\n",
      "Actual:      ['Rocket', 'Thor', 'Thor']\n",
      "\n"
     ]
    }
   ],
   "source": [
    "debug_n_predictions(nlp4,TEST_DATA_3,10)"
   ]
  },
  {
   "cell_type": "markdown",
   "metadata": {},
   "source": [
    "# 5 shuffles, drop = 0.25"
   ]
  },
  {
   "cell_type": "code",
   "execution_count": 40,
   "metadata": {},
   "outputs": [
    {
     "name": "stdout",
     "output_type": "stream",
     "text": [
      "Training Took 1721.67 seconds\n"
     ]
    }
   ],
   "source": [
    "nlp5 = spacy.load(\"en_core_web_sm\")\n",
    "optimizer = nlp5.begin_training()\n",
    "t1 = time.time()\n",
    "for i in range(5):\n",
    "    random.shuffle(TRAIN_DATA_3)\n",
    "    for text, annotations in TRAIN_DATA_3:\n",
    "        nlp5.update([text], [annotations], drop=0.25, sgd=optimizer)\n",
    "t2 = time.time()\n",
    "print(\"Training Took {} seconds\".format(round(t2-t1,2)))\n",
    "nlp5.to_disk(\"C:/Users/jmarchant/Python/CDW/models/model5\")"
   ]
  },
  {
   "cell_type": "code",
   "execution_count": 41,
   "metadata": {},
   "outputs": [
    {
     "name": "stdout",
     "output_type": "stream",
     "text": [
      "Testing 842 examples\n",
      "91.0% characters correctly tagged\n",
      "88.0% sentences perfectly tagged\n"
     ]
    }
   ],
   "source": [
    "nlp5 = spacy.load(\"C:/Users/jmarchant/Python/CDW/models/model5\")\n",
    "test_model(nlp5,TRAIN_DATA_3)"
   ]
  },
  {
   "cell_type": "code",
   "execution_count": 42,
   "metadata": {},
   "outputs": [
    {
     "name": "stdout",
     "output_type": "stream",
     "text": [
      "Testing 174 examples\n",
      "57.0% characters correctly tagged\n",
      "60.0% sentences perfectly tagged\n"
     ]
    }
   ],
   "source": [
    "test_model(nlp5,TEST_DATA_3)"
   ]
  },
  {
   "cell_type": "code",
   "execution_count": 43,
   "metadata": {
    "scrolled": true
   },
   "outputs": [
    {
     "name": "stdout",
     "output_type": "stream",
     "text": [
      "Sentence: Twenty-three days after Thanos used the Infinity Gauntlet to kill half of all life in the universe, Carol Danvers rescues Tony Stark and Nebula from deep space and they reunite with the remaining Avengers—Bruce Banner, Steve Rogers, Thor, Natasha Romanoff, and James Rhodes—and Rocket on Earth\n",
      "Predictions: ['Bruce', 'Carol', 'James', 'Nebula', 'Rocket', 'Thanos', 'Thor', 'Tony']\n",
      "Actual:      ['Bruce', 'Carol', 'James', 'Natasha', 'Nebula', 'Rocket', 'Steve', 'Thanos', 'Thor', 'Tony']\n",
      "\n",
      "Sentence: Locating Thanos on an uninhabited planet, they plan to use the Infinity Stones to reverse \"the Snap\", but Thanos destroyed the Stones to prevent further use\n",
      "Predictions: ['Thanos', 'Thanos']\n",
      "Actual:      ['Thanos', 'Thanos']\n",
      "\n",
      "Sentence: Enraged, Thor decapitates Thanos\n",
      "Predictions: ['Thanos', 'Thor']\n",
      "Actual:      ['Thanos', 'Thor']\n",
      "\n",
      "Sentence: Five years later, Scott Lang escapes from the quantum realm\n",
      "Predictions: ['Lang']\n",
      "Actual:      ['Scott']\n",
      "\n",
      "Sentence: Theorizing the quantum realm could allow time travel, they ask Stark to help them obtain the Stones from the past to reverse Thanos' disintergrations in the present\n",
      "Predictions: ['Thanos']\n",
      "Actual:      ['Thanos']\n",
      "\n",
      "Sentence: Stark refuses, thinking about his wife Pepper Potts and daughter Morgan, but relents after musing over Peter Parker\n",
      "Predictions: ['Morgan', 'Peter']\n",
      "Actual:      ['Pepper Potts']\n",
      "\n",
      "Sentence: Stark, Rocket, and Banner, who has since merged his intelligence with the Hulk's strength, build a time machine\n",
      "Predictions: ['Hulk', 'Rocket']\n",
      "Actual:      ['Hulk', 'Rocket']\n",
      "\n",
      "Sentence: In Norway, an overweight Thor is recruited in the Asgardian refugees' new home New Asgard\n",
      "Predictions: ['Thor']\n",
      "Actual:      ['Thor']\n",
      "\n",
      "Sentence: In Tokyo, Romanoff recruits Clint Barton, now a vigilante following the death of his family\n",
      "Predictions: []\n",
      "Actual:      ['Clint']\n",
      "\n",
      "Sentence: Meanwhile, Rocket and Thor travel to Asgard in 2013, extracting the Reality Stone from Jane Foster and retrieving Thor's hammer Mjolnir\n",
      "Predictions: ['Jane', 'Rocket', 'Thor', 'Thor']\n",
      "Actual:      ['Rocket', 'Thor', 'Thor']\n",
      "\n"
     ]
    }
   ],
   "source": [
    "debug_n_predictions(nlp5,TEST_DATA_3,10)"
   ]
  },
  {
   "cell_type": "code",
   "execution_count": null,
   "metadata": {},
   "outputs": [],
   "source": []
  }
 ],
 "metadata": {
  "kernelspec": {
   "display_name": "Python 3",
   "language": "python",
   "name": "python3"
  },
  "language_info": {
   "codemirror_mode": {
    "name": "ipython",
    "version": 3
   },
   "file_extension": ".py",
   "mimetype": "text/x-python",
   "name": "python",
   "nbconvert_exporter": "python",
   "pygments_lexer": "ipython3",
   "version": "3.7.4"
  }
 },
 "nbformat": 4,
 "nbformat_minor": 2
}
