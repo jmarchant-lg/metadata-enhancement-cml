{
 "cells": [
  {
   "cell_type": "code",
   "execution_count": 4,
   "metadata": {},
   "outputs": [],
   "source": [
    "import pandas as pd\n",
    "import spacy\n",
    "import pickle\n",
    "import time\n",
    "import random"
   ]
  },
  {
   "cell_type": "code",
   "execution_count": 6,
   "metadata": {},
   "outputs": [
    {
     "name": "stdout",
     "output_type": "stream",
     "text": [
      "[('In 1947 Portland, Maine, banker Andy Dufresne is convicted of murdering his wife and her lover and is sentenced to two consecutive life sentences at the Shawshank State Penitentiary', {'entities': [(32, 45, 'PERSON')]})]\n"
     ]
    }
   ],
   "source": [
    "train_data = pickle.load(open(\"main_training_set\",\"rb\"))\n",
    "def reformat_tagged_data(data):\n",
    "    TRAIN_DATA = []\n",
    "    for item in train_data:\n",
    "        new_data = (item[0],{\"entities\":item[1]})\n",
    "        TRAIN_DATA.append(new_data)\n",
    "    # Now we have reformatted TRAIN_DATA ready for model input\n",
    "    return TRAIN_DATA\n",
    "TRAIN_DATA = reformat_tagged_data(train_data)\n",
    "print(TRAIN_DATA[:1])"
   ]
  },
  {
   "cell_type": "code",
   "execution_count": 3,
   "metadata": {
    "scrolled": true
   },
   "outputs": [
    {
     "name": "stderr",
     "output_type": "stream",
     "text": [
      "C:\\Users\\jmarchant\\AppData\\Local\\Continuum\\anaconda3\\lib\\site-packages\\spacy\\language.py:482: UserWarning: [W030] Some entities could not be aligned in the text \"Despite Morpheus's attempt to guide Neo to safety ...\" with entities \"[(65, 68, 'PERSON'), (110, 115, 'PERSON'), (124, 1...\". Use `spacy.gold.biluo_tags_from_offsets(nlp.make_doc(text), entities)` to check the alignment. Misaligned entities ('-') will be ignored during training.\n",
      "  gold = GoldParse(doc, **gold)\n",
      "C:\\Users\\jmarchant\\AppData\\Local\\Continuum\\anaconda3\\lib\\site-packages\\spacy\\language.py:482: UserWarning: [W030] Some entities could not be aligned in the text \"Barbossa takes her prisoner, believing her to be t...\" with entities \"[(65, 69, 'PERSON'), (90, 96, 'PERSON'), (0, 8, 'P...\". Use `spacy.gold.biluo_tags_from_offsets(nlp.make_doc(text), entities)` to check the alignment. Misaligned entities ('-') will be ignored during training.\n",
      "  gold = GoldParse(doc, **gold)\n",
      "C:\\Users\\jmarchant\\AppData\\Local\\Continuum\\anaconda3\\lib\\site-packages\\spacy\\language.py:482: UserWarning: [W030] Some entities could not be aligned in the text \"However, Frank eventually shows up, and they discu...\" with entities \"[(9, 14, 'PERSON'), (0, 4, 'PERSON')]\". Use `spacy.gold.biluo_tags_from_offsets(nlp.make_doc(text), entities)` to check the alignment. Misaligned entities ('-') will be ignored during training.\n",
      "  gold = GoldParse(doc, **gold)\n",
      "C:\\Users\\jmarchant\\AppData\\Local\\Continuum\\anaconda3\\lib\\site-packages\\spacy\\language.py:482: UserWarning: [W030] Some entities could not be aligned in the text \"The group is ambushed by Agents and tactical polic...\" with entities \"[(25, 30, 'PERSON'), (109, 117, 'PERSON'), (63, 69...\". Use `spacy.gold.biluo_tags_from_offsets(nlp.make_doc(text), entities)` to check the alignment. Misaligned entities ('-') will be ignored during training.\n",
      "  gold = GoldParse(doc, **gold)\n",
      "C:\\Users\\jmarchant\\AppData\\Local\\Continuum\\anaconda3\\lib\\site-packages\\spacy\\language.py:482: UserWarning: [W030] Some entities could not be aligned in the text \"Dominick \"Dom\" Cobb and Arthur are \"extractors\": t...\" with entities \"[(24, 30, 'PERSON'), (15, 19, 'PERSON'), (10, 13, ...\". Use `spacy.gold.biluo_tags_from_offsets(nlp.make_doc(text), entities)` to check the alignment. Misaligned entities ('-') will be ignored during training.\n",
      "  gold = GoldParse(doc, **gold)\n",
      "C:\\Users\\jmarchant\\AppData\\Local\\Continuum\\anaconda3\\lib\\site-packages\\spacy\\language.py:482: UserWarning: [W030] Some entities could not be aligned in the text \"A team of Agents and police, led by Agent Smith, a...\" with entities \"[(60, 63, 'PERSON'), (36, 47, 'PERSON'), (10, 15, ...\". Use `spacy.gold.biluo_tags_from_offsets(nlp.make_doc(text), entities)` to check the alignment. Misaligned entities ('-') will be ignored during training.\n",
      "  gold = GoldParse(doc, **gold)\n",
      "C:\\Users\\jmarchant\\AppData\\Local\\Continuum\\anaconda3\\lib\\site-packages\\spacy\\language.py:482: UserWarning: [W030] Some entities could not be aligned in the text \"Hulk refuses to fight after losing to Thanos, so B...\" with entities \"[(38, 44, 'PERSON'), (0, 4, 'PERSON'), (74, 78, 'P...\". Use `spacy.gold.biluo_tags_from_offsets(nlp.make_doc(text), entities)` to check the alignment. Misaligned entities ('-') will be ignored during training.\n",
      "  gold = GoldParse(doc, **gold)\n",
      "C:\\Users\\jmarchant\\AppData\\Local\\Continuum\\anaconda3\\lib\\site-packages\\spacy\\language.py:482: UserWarning: [W030] Some entities could not be aligned in the text \"In the Matrix, the Agents interrogate Morpheus to ...\" with entities \"[(38, 46, 'PERSON'), (19, 24, 'PERSON')]\". Use `spacy.gold.biluo_tags_from_offsets(nlp.make_doc(text), entities)` to check the alignment. Misaligned entities ('-') will be ignored during training.\n",
      "  gold = GoldParse(doc, **gold)\n",
      "C:\\Users\\jmarchant\\AppData\\Local\\Continuum\\anaconda3\\lib\\site-packages\\spacy\\language.py:482: UserWarning: [W030] Some entities could not be aligned in the text \"The first level is Yusuf's dream of a rainy Los An...\" with entities \"[(19, 25, 'PERSON')]\". Use `spacy.gold.biluo_tags_from_offsets(nlp.make_doc(text), entities)` to check the alignment. Misaligned entities ('-') will be ignored during training.\n",
      "  gold = GoldParse(doc, **gold)\n",
      "C:\\Users\\jmarchant\\AppData\\Local\\Continuum\\anaconda3\\lib\\site-packages\\spacy\\language.py:482: UserWarning: [W030] Some entities could not be aligned in the text \"Yusuf drives the team in a van as they are sedated...\" with entities \"[(0, 6, 'PERSON'), (93, 99, 'PERSON')]\". Use `spacy.gold.biluo_tags_from_offsets(nlp.make_doc(text), entities)` to check the alignment. Misaligned entities ('-') will be ignored during training.\n",
      "  gold = GoldParse(doc, **gold)\n",
      "C:\\Users\\jmarchant\\AppData\\Local\\Continuum\\anaconda3\\lib\\site-packages\\spacy\\language.py:482: UserWarning: [W030] Some entities could not be aligned in the text \"She answers a ringing public telephone and vanishe...\" with entities \"[(74, 79, 'PERSON')]\". Use `spacy.gold.biluo_tags_from_offsets(nlp.make_doc(text), entities)` to check the alignment. Misaligned entities ('-') will be ignored during training.\n",
      "  gold = GoldParse(doc, **gold)\n",
      "C:\\Users\\jmarchant\\AppData\\Local\\Continuum\\anaconda3\\lib\\site-packages\\spacy\\language.py:482: UserWarning: [W030] Some entities could not be aligned in the text \"Morpheus warns Neo that death within the Matrix ki...\" with entities \"[(15, 18, 'PERSON'), (81, 86, 'PERSON'), (0, 8, 'P...\". Use `spacy.gold.biluo_tags_from_offsets(nlp.make_doc(text), entities)` to check the alignment. Misaligned entities ('-') will be ignored during training.\n",
      "  gold = GoldParse(doc, **gold)\n",
      "C:\\Users\\jmarchant\\AppData\\Local\\Continuum\\anaconda3\\lib\\site-packages\\spacy\\language.py:482: UserWarning: [W030] Some entities could not be aligned in the text \"While rescuing Morpheus, Neo gains confidence in h...\" with entities \"[(25, 28, 'PERSON'), (15, 23, 'PERSON'), (99, 104,...\". Use `spacy.gold.biluo_tags_from_offsets(nlp.make_doc(text), entities)` to check the alignment. Misaligned entities ('-') will be ignored during training.\n",
      "  gold = GoldParse(doc, **gold)\n",
      "C:\\Users\\jmarchant\\AppData\\Local\\Continuum\\anaconda3\\lib\\site-packages\\spacy\\language.py:482: UserWarning: [W030] Some entities could not be aligned in the text \"She flees, pursued by the police and a group of my...\" with entities \"[(66, 71, 'PERSON')]\". Use `spacy.gold.biluo_tags_from_offsets(nlp.make_doc(text), entities)` to check the alignment. Misaligned entities ('-') will be ignored during training.\n",
      "  gold = GoldParse(doc, **gold)\n"
     ]
    }
   ],
   "source": [
    "nlp = spacy.load(\"en_core_web_sm\")\n",
    "optimizer = nlp.begin_training()\n",
    "for i in range(20):\n",
    "    random.shuffle(TRAIN_DATA)\n",
    "    for text, annotations in TRAIN_DATA:\n",
    "        nlp.update([text], [annotations], drop=0.5, sgd=optimizer)\n",
    "nlp.to_disk(\"/model\")"
   ]
  },
  {
   "cell_type": "code",
   "execution_count": 1,
   "metadata": {},
   "outputs": [],
   "source": [
    "def test_model(nlp,TEST_DATA):\n",
    "    total = 0\n",
    "    correct = 0\n",
    "    completely_correct = 0\n",
    "    for example in TEST_DATA:\n",
    "        doc = nlp(example[0])\n",
    "        \n",
    "        actual_positions = [(x[0],x[1]) for x in example[1][\"entities\"]]\n",
    "        predictions = [str(x) for x in list(doc.ents)]\n",
    "        actual_characters = [str(doc)[a:b] for (a,b) in actual_positions]\n",
    "        initial_predictions = predictions\n",
    "        \n",
    "        for char in actual_characters:\n",
    "            if char in predictions:\n",
    "                correct += 1\n",
    "                predictions.remove(char)\n",
    "            total += 1\n",
    "        \n",
    "        if len(predictions) == 0:\n",
    "            completely_correct += 1\n",
    "        \n",
    "#         print(\"Sentence: {}\".format(doc))\n",
    "#         print(\"Predictions: {}\".format(initial_predictions))\n",
    "#         print(\"Actual: {}\".format(actual_characters))\n",
    "#         print()\n",
    "    print(\"{}% characters correctly tagged\".format(round(100*(correct/total),0)))\n",
    "    print(\"{}% sentences perfectly tagged\".format(round(100*(completely_correct/len(TEST_DATA)),0)))"
   ]
  },
  {
   "cell_type": "code",
   "execution_count": 7,
   "metadata": {},
   "outputs": [
    {
     "name": "stdout",
     "output_type": "stream",
     "text": [
      "92.0% characters correctly tagged\n",
      "96.0% sentences perfectly tagged\n"
     ]
    }
   ],
   "source": [
    "nlp = spacy.load(\"/model\")\n",
    "test_model(nlp,TRAIN_DATA)"
   ]
  },
  {
   "cell_type": "code",
   "execution_count": null,
   "metadata": {},
   "outputs": [],
   "source": []
  }
 ],
 "metadata": {
  "kernelspec": {
   "display_name": "Python 3",
   "language": "python",
   "name": "python3"
  },
  "language_info": {
   "codemirror_mode": {
    "name": "ipython",
    "version": 3
   },
   "file_extension": ".py",
   "mimetype": "text/x-python",
   "name": "python",
   "nbconvert_exporter": "python",
   "pygments_lexer": "ipython3",
   "version": "3.7.4"
  }
 },
 "nbformat": 4,
 "nbformat_minor": 2
}
