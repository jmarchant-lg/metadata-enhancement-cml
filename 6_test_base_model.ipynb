{
 "cells": [
  {
   "cell_type": "code",
   "execution_count": 1,
   "metadata": {},
   "outputs": [],
   "source": [
    "import pandas as pd\n",
    "import pickle\n",
    "import spacy\n",
    "import time"
   ]
  },
  {
   "cell_type": "code",
   "execution_count": 12,
   "metadata": {},
   "outputs": [],
   "source": [
    "def test_model(nlp,TEST_DATA):\n",
    "    total = 0\n",
    "    correct = 0\n",
    "    completely_correct = 0\n",
    "    for example in TEST_DATA:\n",
    "        doc = nlp(example[0])\n",
    "        \n",
    "        actual_positions = [(x[0],x[1]) for x in example[1][\"entities\"]]\n",
    "        predictions = [str(x) for x in list(doc.ents)]\n",
    "        actual_characters = [str(doc)[a:b] for (a,b) in actual_positions]\n",
    "        initial_predictions = predictions\n",
    "        \n",
    "        for char in actual_characters:\n",
    "            if char in predictions:\n",
    "                correct += 1\n",
    "                predictions.remove(char)\n",
    "            total += 1\n",
    "        \n",
    "        if len(predictions) == 0:\n",
    "            completely_correct += 1\n",
    "        \n",
    "#         print(\"Sentence: {}\".format(doc))\n",
    "#         print(\"Predictions: {}\".format(initial_predictions))\n",
    "#         print(\"Actual: {}\".format(actual_characters))\n",
    "#         print()\n",
    "    print(\"{}% characters correctly tagged\".format(round(100*(correct/total),0)))\n",
    "    print(\"{}% sentences perfectly tagged\".format(round(100*(completely_correct/len(TEST_DATA)),0)))"
   ]
  },
  {
   "cell_type": "code",
   "execution_count": 13,
   "metadata": {},
   "outputs": [],
   "source": [
    "def reformat_tagged_data(data):\n",
    "    TRAIN_DATA = []\n",
    "    for item in data:\n",
    "        new_data = (item[0],{\"entities\":item[1]})\n",
    "        TRAIN_DATA.append(new_data)\n",
    "    # Now we have reformatted TRAIN_DATA ready for model input\n",
    "    return TRAIN_DATA"
   ]
  },
  {
   "cell_type": "code",
   "execution_count": 7,
   "metadata": {},
   "outputs": [],
   "source": [
    "test_data = pickle.load(open(\"main_test_set\",'rb'))\n",
    "TEST_DATA = reformat_tagged_data(test_data)"
   ]
  },
  {
   "cell_type": "code",
   "execution_count": 8,
   "metadata": {},
   "outputs": [
    {
     "name": "stdout",
     "output_type": "stream",
     "text": [
      "('Twenty-three days after Thanos used the Infinity Gauntlet to disintegrate half of all life in the universe, Carol Danvers rescues Tony Stark and Nebula from deep space and returns them to Earth, where they reunite with the remaining Avengers—Bruce Banner, Steve Rogers, Thor, Natasha Romanoff, and James Rhodes—and Rocket', {'entities': [(298, 303, 'PERSON'), (108, 113, 'PERSON'), (145, 151, 'PERSON'), (130, 134, 'PERSON'), (270, 274, 'PERSON'), (24, 30, 'PERSON'), (242, 247, 'PERSON'), (315, 321, 'PERSON'), (276, 283, 'PERSON'), (256, 261, 'PERSON')]})\n"
     ]
    }
   ],
   "source": [
    "print(TEST_DATA[0])"
   ]
  },
  {
   "cell_type": "code",
   "execution_count": 9,
   "metadata": {},
   "outputs": [],
   "source": [
    "nlp = spacy.load(\"/model\")"
   ]
  },
  {
   "cell_type": "code",
   "execution_count": 10,
   "metadata": {},
   "outputs": [
    {
     "name": "stdout",
     "output_type": "stream",
     "text": [
      "43.0% characters correctly tagged\n",
      "68.0% sentences perfectly tagged\n"
     ]
    }
   ],
   "source": [
    "test_model(nlp,TEST_DATA)"
   ]
  },
  {
   "cell_type": "code",
   "execution_count": 16,
   "metadata": {},
   "outputs": [
    {
     "name": "stdout",
     "output_type": "stream",
     "text": [
      "Sentence: Twenty-three days after Thanos used the Infinity Gauntlet to disintegrate half of all life in the universe, Carol Danvers rescues Tony Stark and Nebula from deep space and returns them to Earth, where they reunite with the remaining Avengers—Bruce Banner, Steve Rogers, Thor, Natasha Romanoff, and James Rhodes—and Rocket\n",
      "Predictions: ['Bruce', 'Carol', 'James', 'Natasha', 'Nebula', 'Rocket', 'Steve', 'Thanos', 'Thor', 'Tony']\n",
      "Actual:      ['Bruce', 'Carol', 'James', 'Natasha', 'Nebula', 'Rocket', 'Steve', 'Thanos', 'Thor', 'Tony']\n",
      "\n",
      "Sentence: Locating Thanos on an uninhabited planet, they plan to use the Infinity Stones to reverse \"the Snap\", but Thanos reveals he destroyed the Stones to prevent further use\n",
      "Predictions: ['Thanos', 'Thanos']\n",
      "Actual:      ['Thanos', 'Thanos']\n",
      "\n",
      "Sentence: Enraged, Thor decapitates Thanos\n",
      "Predictions: ['Thanos', 'Thor']\n",
      "Actual:      ['Thanos', 'Thor']\n",
      "\n",
      "Sentence: Five years later, Scott Lang escapes from the quantum realm\n",
      "Predictions: ['Lang']\n",
      "Actual:      ['Scott']\n",
      "\n",
      "Sentence: Theorizing the quantum realm could allow time travel, they ask Stark to help them obtain the Stones from the past to undo Thanos' actions in the present\n",
      "Predictions: ['Thanos']\n",
      "Actual:      ['Thanos']\n",
      "\n"
     ]
    }
   ],
   "source": [
    "for i in range(5):\n",
    "    example = TEST_DATA[i]\n",
    "    doc = nlp(example[0])\n",
    "        \n",
    "    actual_positions = [(x[0],x[1]) for x in example[1][\"entities\"]]\n",
    "    predictions = [str(x) for x in list(doc.ents)]\n",
    "    actual_characters = [str(doc)[a:b] for (a,b) in actual_positions]\n",
    "    \n",
    "    print(\"Sentence: {}\".format(doc))\n",
    "    print(\"Predictions: {}\".format(sorted(predictions)))\n",
    "    print(\"Actual:      {}\".format(sorted(actual_characters)))\n",
    "    print()"
   ]
  },
  {
   "cell_type": "code",
   "execution_count": null,
   "metadata": {},
   "outputs": [],
   "source": []
  }
 ],
 "metadata": {
  "kernelspec": {
   "display_name": "Python 3",
   "language": "python",
   "name": "python3"
  },
  "language_info": {
   "codemirror_mode": {
    "name": "ipython",
    "version": 3
   },
   "file_extension": ".py",
   "mimetype": "text/x-python",
   "name": "python",
   "nbconvert_exporter": "python",
   "pygments_lexer": "ipython3",
   "version": "3.7.4"
  }
 },
 "nbformat": 4,
 "nbformat_minor": 2
}
